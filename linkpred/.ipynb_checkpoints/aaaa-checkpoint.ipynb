{
 "cells": [
  {
   "cell_type": "markdown",
   "metadata": {},
   "source": [
    "# Video network recommendation"
   ]
  },
  {
   "cell_type": "code",
   "execution_count": 8,
   "metadata": {},
   "outputs": [],
   "source": [
    "import networkx as nx\n",
    "import numpy as np\n",
    "import json, random\n",
    "import matplotlib.pyplot as plt\n",
    "import pandas as pd\n",
    "from tqdm import tqdm"
   ]
  },
  {
   "cell_type": "markdown",
   "metadata": {},
   "source": [
    "## Data preparaition"
   ]
  },
  {
   "cell_type": "code",
   "execution_count": 9,
   "metadata": {},
   "outputs": [],
   "source": [
    "from read_vid2vid import *"
   ]
  },
  {
   "cell_type": "code",
   "execution_count": 10,
   "metadata": {},
   "outputs": [
    {
     "name": "stderr",
     "output_type": "stream",
     "text": [
      "100%|██████████| 843/843 [00:00<00:00, 4518.43it/s]"
     ]
    },
    {
     "name": "stdout",
     "output_type": "stream",
     "text": [
      "Graph with 843 nodes and 1057 edges\n",
      "===================\n",
      "generating negative entries\n"
     ]
    },
    {
     "name": "stderr",
     "output_type": "stream",
     "text": [
      "\n",
      "  2%|▏         | 24/1057 [00:00<00:04, 237.69it/s]"
     ]
    },
    {
     "name": "stdout",
     "output_type": "stream",
     "text": [
      "3538 negative entries\n",
      "generating positive entries\n"
     ]
    },
    {
     "name": "stderr",
     "output_type": "stream",
     "text": [
      "100%|██████████| 1057/1057 [00:04<00:00, 229.13it/s]\n"
     ]
    },
    {
     "name": "stdout",
     "output_type": "stream",
     "text": [
      "426 positive entries\n",
      "===================\n",
      "Dataset info:\n",
      "0    3538\n",
      "1     426\n",
      "Name: link, dtype: int64\n",
      "===================\n"
     ]
    }
   ],
   "source": [
    "graph, bvid2index = read_data(\"../dataset/video2video_bfs.json\")\n",
    "dataset, graph_train = genarate_dataset(graph)"
   ]
  },
  {
   "cell_type": "code",
   "execution_count": 11,
   "metadata": {},
   "outputs": [
    {
     "data": {
      "text/html": [
       "<div>\n",
       "<style scoped>\n",
       "    .dataframe tbody tr th:only-of-type {\n",
       "        vertical-align: middle;\n",
       "    }\n",
       "\n",
       "    .dataframe tbody tr th {\n",
       "        vertical-align: top;\n",
       "    }\n",
       "\n",
       "    .dataframe thead th {\n",
       "        text-align: right;\n",
       "    }\n",
       "</style>\n",
       "<table border=\"1\" class=\"dataframe\">\n",
       "  <thead>\n",
       "    <tr style=\"text-align: right;\">\n",
       "      <th></th>\n",
       "      <th>node_1</th>\n",
       "      <th>node_2</th>\n",
       "      <th>link</th>\n",
       "    </tr>\n",
       "  </thead>\n",
       "  <tbody>\n",
       "    <tr>\n",
       "      <th>0</th>\n",
       "      <td>0</td>\n",
       "      <td>1</td>\n",
       "      <td>1</td>\n",
       "    </tr>\n",
       "    <tr>\n",
       "      <th>1</th>\n",
       "      <td>0</td>\n",
       "      <td>2</td>\n",
       "      <td>1</td>\n",
       "    </tr>\n",
       "    <tr>\n",
       "      <th>2</th>\n",
       "      <td>0</td>\n",
       "      <td>3</td>\n",
       "      <td>1</td>\n",
       "    </tr>\n",
       "    <tr>\n",
       "      <th>3</th>\n",
       "      <td>0</td>\n",
       "      <td>4</td>\n",
       "      <td>1</td>\n",
       "    </tr>\n",
       "    <tr>\n",
       "      <th>4</th>\n",
       "      <td>0</td>\n",
       "      <td>5</td>\n",
       "      <td>1</td>\n",
       "    </tr>\n",
       "  </tbody>\n",
       "</table>\n",
       "</div>"
      ],
      "text/plain": [
       "   node_1  node_2  link\n",
       "0       0       1     1\n",
       "1       0       2     1\n",
       "2       0       3     1\n",
       "3       0       4     1\n",
       "4       0       5     1"
      ]
     },
     "execution_count": 11,
     "metadata": {},
     "output_type": "execute_result"
    }
   ],
   "source": [
    "dataset.head()"
   ]
  },
  {
   "cell_type": "code",
   "execution_count": 12,
   "metadata": {},
   "outputs": [
    {
     "data": {
      "application/vnd.jupyter.widget-view+json": {
       "model_id": "ccffcfd2cbbe468ab7e125afb8444ba4",
       "version_major": 2,
       "version_minor": 0
      },
      "text/plain": [
       "HBox(children=(FloatProgress(value=0.0, description='Computing transition probabilities', max=843.0, style=Pro…"
      ]
     },
     "metadata": {},
     "output_type": "display_data"
    },
    {
     "name": "stderr",
     "output_type": "stream",
     "text": [
      "\r",
      "Generating walks (CPU: 1):   0%|          | 0/25 [00:00<?, ?it/s]"
     ]
    },
    {
     "name": "stdout",
     "output_type": "stream",
     "text": [
      "\n"
     ]
    },
    {
     "name": "stderr",
     "output_type": "stream",
     "text": [
      "Generating walks (CPU: 1): 100%|██████████| 25/25 [00:15<00:00,  1.67it/s]\n"
     ]
    }
   ],
   "source": [
    "# dataset = process_parameters_naive(dataset, graph_train)\n",
    "dataset = process_parameters_node2vec(dataset, graph_train)"
   ]
  },
  {
   "cell_type": "code",
   "execution_count": 13,
   "metadata": {},
   "outputs": [
    {
     "data": {
      "text/html": [
       "<div>\n",
       "<style scoped>\n",
       "    .dataframe tbody tr th:only-of-type {\n",
       "        vertical-align: middle;\n",
       "    }\n",
       "\n",
       "    .dataframe tbody tr th {\n",
       "        vertical-align: top;\n",
       "    }\n",
       "\n",
       "    .dataframe thead th {\n",
       "        text-align: right;\n",
       "    }\n",
       "</style>\n",
       "<table border=\"1\" class=\"dataframe\">\n",
       "  <thead>\n",
       "    <tr style=\"text-align: right;\">\n",
       "      <th></th>\n",
       "      <th>node_1</th>\n",
       "      <th>node_2</th>\n",
       "      <th>link</th>\n",
       "      <th>dim_0</th>\n",
       "      <th>dim_1</th>\n",
       "      <th>dim_2</th>\n",
       "      <th>dim_3</th>\n",
       "      <th>dim_4</th>\n",
       "      <th>dim_5</th>\n",
       "      <th>dim_6</th>\n",
       "      <th>...</th>\n",
       "      <th>dim_15</th>\n",
       "      <th>dim_16</th>\n",
       "      <th>dim_17</th>\n",
       "      <th>dim_18</th>\n",
       "      <th>dim_19</th>\n",
       "      <th>dim_20</th>\n",
       "      <th>dim_21</th>\n",
       "      <th>dim_22</th>\n",
       "      <th>dim_23</th>\n",
       "      <th>dim_24</th>\n",
       "    </tr>\n",
       "  </thead>\n",
       "  <tbody>\n",
       "    <tr>\n",
       "      <th>0</th>\n",
       "      <td>0</td>\n",
       "      <td>1</td>\n",
       "      <td>1</td>\n",
       "      <td>4.578971</td>\n",
       "      <td>-1.730036</td>\n",
       "      <td>-6.857083</td>\n",
       "      <td>2.174973</td>\n",
       "      <td>-2.724557</td>\n",
       "      <td>-6.717185</td>\n",
       "      <td>-4.422027</td>\n",
       "      <td>...</td>\n",
       "      <td>1.293975</td>\n",
       "      <td>-3.999722</td>\n",
       "      <td>-1.503317</td>\n",
       "      <td>-1.329384</td>\n",
       "      <td>0.034423</td>\n",
       "      <td>2.501498</td>\n",
       "      <td>5.741450</td>\n",
       "      <td>-4.985465</td>\n",
       "      <td>0.901290</td>\n",
       "      <td>-1.048810</td>\n",
       "    </tr>\n",
       "    <tr>\n",
       "      <th>1</th>\n",
       "      <td>0</td>\n",
       "      <td>2</td>\n",
       "      <td>1</td>\n",
       "      <td>2.180386</td>\n",
       "      <td>-2.816260</td>\n",
       "      <td>-3.514512</td>\n",
       "      <td>2.643425</td>\n",
       "      <td>-2.631580</td>\n",
       "      <td>-5.487886</td>\n",
       "      <td>-5.749377</td>\n",
       "      <td>...</td>\n",
       "      <td>1.427058</td>\n",
       "      <td>-2.635591</td>\n",
       "      <td>0.724880</td>\n",
       "      <td>-2.718887</td>\n",
       "      <td>1.184057</td>\n",
       "      <td>1.673509</td>\n",
       "      <td>5.526882</td>\n",
       "      <td>-7.745764</td>\n",
       "      <td>1.172191</td>\n",
       "      <td>-3.855843</td>\n",
       "    </tr>\n",
       "    <tr>\n",
       "      <th>2</th>\n",
       "      <td>0</td>\n",
       "      <td>3</td>\n",
       "      <td>1</td>\n",
       "      <td>2.268800</td>\n",
       "      <td>-2.079944</td>\n",
       "      <td>-1.079084</td>\n",
       "      <td>2.843319</td>\n",
       "      <td>-6.192669</td>\n",
       "      <td>-8.660738</td>\n",
       "      <td>-5.676735</td>\n",
       "      <td>...</td>\n",
       "      <td>2.431382</td>\n",
       "      <td>-3.885549</td>\n",
       "      <td>-1.065883</td>\n",
       "      <td>-3.139058</td>\n",
       "      <td>1.825798</td>\n",
       "      <td>2.996272</td>\n",
       "      <td>1.778281</td>\n",
       "      <td>-5.015277</td>\n",
       "      <td>2.105687</td>\n",
       "      <td>1.701304</td>\n",
       "    </tr>\n",
       "    <tr>\n",
       "      <th>3</th>\n",
       "      <td>0</td>\n",
       "      <td>4</td>\n",
       "      <td>1</td>\n",
       "      <td>3.717093</td>\n",
       "      <td>-0.686419</td>\n",
       "      <td>-5.228377</td>\n",
       "      <td>2.601431</td>\n",
       "      <td>-6.431531</td>\n",
       "      <td>-7.258757</td>\n",
       "      <td>-4.398007</td>\n",
       "      <td>...</td>\n",
       "      <td>4.756121</td>\n",
       "      <td>-4.635872</td>\n",
       "      <td>-1.331309</td>\n",
       "      <td>-4.379055</td>\n",
       "      <td>0.918781</td>\n",
       "      <td>2.625797</td>\n",
       "      <td>4.698762</td>\n",
       "      <td>-5.218611</td>\n",
       "      <td>-4.275461</td>\n",
       "      <td>0.944086</td>\n",
       "    </tr>\n",
       "    <tr>\n",
       "      <th>4</th>\n",
       "      <td>0</td>\n",
       "      <td>5</td>\n",
       "      <td>1</td>\n",
       "      <td>2.474753</td>\n",
       "      <td>-1.716466</td>\n",
       "      <td>-4.555101</td>\n",
       "      <td>4.348217</td>\n",
       "      <td>-5.038647</td>\n",
       "      <td>-7.809485</td>\n",
       "      <td>-3.689382</td>\n",
       "      <td>...</td>\n",
       "      <td>2.851400</td>\n",
       "      <td>-5.129054</td>\n",
       "      <td>0.009916</td>\n",
       "      <td>-4.225525</td>\n",
       "      <td>1.207205</td>\n",
       "      <td>3.852109</td>\n",
       "      <td>5.892987</td>\n",
       "      <td>-4.521546</td>\n",
       "      <td>-1.016677</td>\n",
       "      <td>-0.116729</td>\n",
       "    </tr>\n",
       "  </tbody>\n",
       "</table>\n",
       "<p>5 rows × 28 columns</p>\n",
       "</div>"
      ],
      "text/plain": [
       "   node_1  node_2  link     dim_0     dim_1     dim_2     dim_3     dim_4  \\\n",
       "0       0       1     1  4.578971 -1.730036 -6.857083  2.174973 -2.724557   \n",
       "1       0       2     1  2.180386 -2.816260 -3.514512  2.643425 -2.631580   \n",
       "2       0       3     1  2.268800 -2.079944 -1.079084  2.843319 -6.192669   \n",
       "3       0       4     1  3.717093 -0.686419 -5.228377  2.601431 -6.431531   \n",
       "4       0       5     1  2.474753 -1.716466 -4.555101  4.348217 -5.038647   \n",
       "\n",
       "      dim_5     dim_6  ...    dim_15    dim_16    dim_17    dim_18    dim_19  \\\n",
       "0 -6.717185 -4.422027  ...  1.293975 -3.999722 -1.503317 -1.329384  0.034423   \n",
       "1 -5.487886 -5.749377  ...  1.427058 -2.635591  0.724880 -2.718887  1.184057   \n",
       "2 -8.660738 -5.676735  ...  2.431382 -3.885549 -1.065883 -3.139058  1.825798   \n",
       "3 -7.258757 -4.398007  ...  4.756121 -4.635872 -1.331309 -4.379055  0.918781   \n",
       "4 -7.809485 -3.689382  ...  2.851400 -5.129054  0.009916 -4.225525  1.207205   \n",
       "\n",
       "     dim_20    dim_21    dim_22    dim_23    dim_24  \n",
       "0  2.501498  5.741450 -4.985465  0.901290 -1.048810  \n",
       "1  1.673509  5.526882 -7.745764  1.172191 -3.855843  \n",
       "2  2.996272  1.778281 -5.015277  2.105687  1.701304  \n",
       "3  2.625797  4.698762 -5.218611 -4.275461  0.944086  \n",
       "4  3.852109  5.892987 -4.521546 -1.016677 -0.116729  \n",
       "\n",
       "[5 rows x 28 columns]"
      ]
     },
     "execution_count": 13,
     "metadata": {},
     "output_type": "execute_result"
    }
   ],
   "source": [
    "dataset.head()"
   ]
  },
  {
   "cell_type": "markdown",
   "metadata": {},
   "source": [
    "## Train model"
   ]
  },
  {
   "cell_type": "code",
   "execution_count": 14,
   "metadata": {},
   "outputs": [],
   "source": [
    "from sklearn.model_selection import train_test_split\n",
    "# simple models\n",
    "from sklearn.linear_model import LogisticRegression # 5zhong moxing\n",
    "from sklearn.svm import SVC\n",
    "from sklearn.tree import DecisionTreeClassifier\n",
    "from sklearn.ensemble import RandomForestClassifier\n",
    "from sklearn.neighbors import KNeighborsClassifier\n",
    "\n",
    "from sklearn.metrics import accuracy_score, roc_auc_score, confusion_matrix"
   ]
  },
  {
   "cell_type": "code",
   "execution_count": 15,
   "metadata": {},
   "outputs": [],
   "source": [
    "predictors = np.array(dataset.iloc[:, 3:])\n",
    "response = dataset['link']\n",
    "xtrain, xtest, ytrain, ytest = train_test_split(predictors, response,\n",
    "                                                test_size = 0.3, \n",
    "                                                random_state = 114514)"
   ]
  },
  {
   "cell_type": "code",
   "execution_count": 16,
   "metadata": {},
   "outputs": [],
   "source": [
    "judge = lambda x, y: 0 if x > y else 1"
   ]
  },
  {
   "cell_type": "markdown",
   "metadata": {},
   "source": [
    "### logistic classification"
   ]
  },
  {
   "cell_type": "code",
   "execution_count": 41,
   "metadata": {},
   "outputs": [
    {
     "name": "stdout",
     "output_type": "stream",
     "text": [
      "0.8795939461561104\n",
      "0.8084033613445378\n",
      "[[850 201]\n",
      " [ 27 112]]\n"
     ]
    }
   ],
   "source": [
    "# logistic regression\n",
    "lr = LogisticRegression(class_weight=\"balanced\") # lr = \n",
    "lr.fit(xtrain, ytrain)\n",
    "predictions = lr.predict_proba(xtest) # yong xtest suan chu lai de y\n",
    "print(roc_auc_score(ytest, predictions[:,1]))\n",
    "ypred = [judge(predictions[i,0], predictions[i,1]) for i in range(predictions.shape[0])]\n",
    "print(accuracy_score(ytest, ypred))\n",
    "print(confusion_matrix(ytest, ypred))"
   ]
  },
  {
   "cell_type": "markdown",
   "metadata": {},
   "source": [
    "### SVC"
   ]
  },
  {
   "cell_type": "code",
   "execution_count": 40,
   "metadata": {},
   "outputs": [
    {
     "name": "stdout",
     "output_type": "stream",
     "text": [
      "0.7858668346008255\n",
      "0.9470588235294117\n",
      "[[1047    4]\n",
      " [  59   80]]\n"
     ]
    }
   ],
   "source": [
    "#input shi xtrain he ytrain\n",
    "clf = SVC(gamma='auto')\n",
    "clf.fit(xtrain, ytrain)\n",
    "predictions = clf.predict(xtest)\n",
    "#print(predictions)\n",
    "print(roc_auc_score(ytest, predictions))\n",
    "print(accuracy_score(ytest, predictions))\n",
    "print(confusion_matrix(ytest, predictions))"
   ]
  },
  {
   "cell_type": "markdown",
   "metadata": {},
   "source": [
    "### DecisionTree"
   ]
  },
  {
   "cell_type": "code",
   "execution_count": 50,
   "metadata": {},
   "outputs": [
    {
     "name": "stdout",
     "output_type": "stream",
     "text": [
      "0.8852754143022403\n",
      "0.946218487394958\n",
      "[[1014   37]\n",
      " [  27  112]]\n"
     ]
    }
   ],
   "source": [
    "tre = DecisionTreeClassifier(criterion='gini')\n",
    "tre.fit(xtrain, ytrain)\n",
    "predictions = tre.predict(xtest)\n",
    "#print(predictions)\n",
    "print(roc_auc_score(ytest, predictions))\n",
    "print(accuracy_score(ytest, predictions))\n",
    "print(confusion_matrix(ytest, predictions))"
   ]
  },
  {
   "cell_type": "markdown",
   "metadata": {},
   "source": [
    "### RandomForest"
   ]
  },
  {
   "cell_type": "code",
   "execution_count": 55,
   "metadata": {},
   "outputs": [
    {
     "name": "stdout",
     "output_type": "stream",
     "text": [
      "0.8909260793078192\n",
      "0.9672268907563025\n",
      "[[1041   10]\n",
      " [  29  110]]\n"
     ]
    }
   ],
   "source": [
    "ranf = RandomForestClassifier(max_depth=10, random_state=0)\n",
    "ranf.fit(xtrain, ytrain)\n",
    "predictions = ranf.predict(xtest)\n",
    "#print(predictions)\n",
    "print(roc_auc_score(ytest, predictions))\n",
    "print(accuracy_score(ytest, predictions))\n",
    "print(confusion_matrix(ytest, predictions))"
   ]
  },
  {
   "cell_type": "markdown",
   "metadata": {},
   "source": [
    "### KNeighbors"
   ]
  },
  {
   "cell_type": "code",
   "execution_count": null,
   "metadata": {},
   "outputs": [],
   "source": [
    "kn = KNeighborsClassifier(3)\n",
    "kn.fit(xtrain, ytrain)\n",
    "predictions = kn.predict(xtest)\n",
    "#print(predictions)\n",
    "print(roc_auc_score(ytest, predictions))\n",
    "print(accuracy_score(ytest, predictions))\n",
    "print(confusion_matrix(ytest, predictions))"
   ]
  },
  {
   "cell_type": "code",
   "execution_count": null,
   "metadata": {},
   "outputs": [],
   "source": []
  },
  {
   "cell_type": "code",
   "execution_count": null,
   "metadata": {},
   "outputs": [],
   "source": []
  }
 ],
 "metadata": {
  "kernelspec": {
   "display_name": "Python 3",
   "language": "python",
   "name": "python3"
  },
  "language_info": {
   "codemirror_mode": {
    "name": "ipython",
    "version": 3
   },
   "file_extension": ".py",
   "mimetype": "text/x-python",
   "name": "python",
   "nbconvert_exporter": "python",
   "pygments_lexer": "ipython3",
   "version": "3.8.3"
  }
 },
 "nbformat": 4,
 "nbformat_minor": 2
}
