{
 "cells": [
  {
   "cell_type": "markdown",
   "metadata": {},
   "source": [
    "# User2Video network recommendation"
   ]
  },
  {
   "cell_type": "code",
   "execution_count": null,
   "metadata": {},
   "outputs": [],
   "source": [
    "import networkx as nx\n",
    "import numpy as np\n",
    "import json, random\n",
    "import matplotlib.pyplot as plt\n",
    "import pandas as pd\n",
    "from tqdm import tqdm"
   ]
  },
  {
   "cell_type": "markdown",
   "metadata": {},
   "source": [
    "## Data preparaition"
   ]
  },
  {
   "cell_type": "code",
   "execution_count": null,
   "metadata": {},
   "outputs": [],
   "source": [
    "from read_user2vid import *"
   ]
  },
  {
   "cell_type": "code",
   "execution_count": null,
   "metadata": {},
   "outputs": [],
   "source": [
    "graph, users, videos, = read_data(\"../dataset/user2video.json\")\n",
    "dataset, graph_train = genarate_dataset(graph, users, videos)"
   ]
  },
  {
   "cell_type": "code",
   "execution_count": null,
   "metadata": {},
   "outputs": [],
   "source": [
    "dataset.head()"
   ]
  },
  {
   "cell_type": "code",
   "execution_count": null,
   "metadata": {},
   "outputs": [],
   "source": [
    "# dataset = process_parameters_naive(dataset, graph_train)\n",
    "dataset = process_parameters_node2vec(dataset, graph_train)"
   ]
  },
  {
   "cell_type": "code",
   "execution_count": null,
   "metadata": {},
   "outputs": [],
   "source": [
    "dataset.head()"
   ]
  },
  {
   "cell_type": "markdown",
   "metadata": {},
   "source": [
    "## Train model"
   ]
  },
  {
   "cell_type": "code",
   "execution_count": null,
   "metadata": {},
   "outputs": [],
   "source": [
    "from sklearn.model_selection import train_test_split\n",
    "# simple models\n",
    "from sklearn.linear_model import LogisticRegression # 5zhong moxing\n",
    "from sklearn.svm import SVC\n",
    "from sklearn.tree import DecisionTreeClassifier\n",
    "from sklearn.ensemble import RandomForestClassifier\n",
    "from sklearn.neighbors import KNeighborsClassifier\n",
    "\n",
    "from sklearn.metrics import accuracy_score, roc_auc_score, confusion_matrix"
   ]
  },
  {
   "cell_type": "code",
   "execution_count": null,
   "metadata": {},
   "outputs": [],
   "source": [
    "predictors = np.array(dataset.iloc[:, 3:])\n",
    "response = dataset['link']\n",
    "xtrain, xtest, ytrain, ytest = train_test_split(predictors, response,\n",
    "                                                test_size = 0.3, \n",
    "                                                random_state = 114514)"
   ]
  },
  {
   "cell_type": "code",
   "execution_count": null,
   "metadata": {},
   "outputs": [],
   "source": [
    "judge = lambda x, y: 0 if x > y else 1"
   ]
  },
  {
   "cell_type": "markdown",
   "metadata": {},
   "source": [
    "### logistic classification"
   ]
  },
  {
   "cell_type": "code",
   "execution_count": null,
   "metadata": {},
   "outputs": [],
   "source": [
    "# logistic regression\n",
    "lr = LogisticRegression(class_weight=\"balanced\") # lr = \n",
    "lr.fit(xtrain, ytrain)\n",
    "predictions = lr.predict_proba(xtest) # yong xtest suan chu lai de y\n",
    "print(roc_auc_score(ytest, predictions[:,1]))\n",
    "ypred = [judge(predictions[i,0], predictions[i,1]) for i in range(predictions.shape[0])]\n",
    "print(accuracy_score(ytest, ypred))\n",
    "print(confusion_matrix(ytest, ypred))"
   ]
  },
  {
   "cell_type": "markdown",
   "metadata": {},
   "source": [
    "### SVC"
   ]
  },
  {
   "cell_type": "code",
   "execution_count": null,
   "metadata": {},
   "outputs": [],
   "source": [
    "#input shi xtrain he ytrain\n",
    "clf = SVC(gamma='auto')\n",
    "clf.fit(xtrain, ytrain)\n",
    "predictions = clf.predict(xtest)\n",
    "#print(predictions)\n",
    "print(roc_auc_score(ytest, predictions))\n",
    "print(accuracy_score(ytest, predictions))\n",
    "print(confusion_matrix(ytest, predictions))"
   ]
  },
  {
   "cell_type": "markdown",
   "metadata": {},
   "source": [
    "### DecisionTree"
   ]
  },
  {
   "cell_type": "code",
   "execution_count": null,
   "metadata": {},
   "outputs": [],
   "source": [
    "tre = DecisionTreeClassifier(criterion='gini')\n",
    "tre.fit(xtrain, ytrain)\n",
    "predictions = tre.predict(xtest)\n",
    "#print(predictions)\n",
    "print(roc_auc_score(ytest, predictions))\n",
    "print(accuracy_score(ytest, predictions))\n",
    "print(confusion_matrix(ytest, predictions))"
   ]
  },
  {
   "cell_type": "markdown",
   "metadata": {},
   "source": [
    "### RandomForest"
   ]
  },
  {
   "cell_type": "code",
   "execution_count": null,
   "metadata": {},
   "outputs": [],
   "source": [
    "ranf = RandomForestClassifier(max_depth=10, random_state=0)\n",
    "ranf.fit(xtrain, ytrain)\n",
    "predictions = ranf.predict(xtest)\n",
    "#print(predictions)\n",
    "print(roc_auc_score(ytest, predictions))\n",
    "print(accuracy_score(ytest, predictions))\n",
    "print(confusion_matrix(ytest, predictions))"
   ]
  },
  {
   "cell_type": "markdown",
   "metadata": {},
   "source": [
    "### KNeighbors"
   ]
  },
  {
   "cell_type": "code",
   "execution_count": null,
   "metadata": {},
   "outputs": [],
   "source": [
    "kn = KNeighborsClassifier(3)\n",
    "kn.fit(xtrain, ytrain)\n",
    "predictions = kn.predict(xtest)\n",
    "#print(predictions)\n",
    "print(roc_auc_score(ytest, predictions))\n",
    "print(accuracy_score(ytest, predictions))\n",
    "print(confusion_matrix(ytest, predictions))"
   ]
  },
  {
   "cell_type": "code",
   "execution_count": null,
   "metadata": {},
   "outputs": [],
   "source": []
  }
 ],
 "metadata": {
  "kernelspec": {
   "display_name": "Python 3",
   "language": "python",
   "name": "python3"
  },
  "language_info": {
   "codemirror_mode": {
    "name": "ipython",
    "version": 3
   },
   "file_extension": ".py",
   "mimetype": "text/x-python",
   "name": "python",
   "nbconvert_exporter": "python",
   "pygments_lexer": "ipython3",
   "version": "3.8.3-final"
  }
 },
 "nbformat": 4,
 "nbformat_minor": 2
}