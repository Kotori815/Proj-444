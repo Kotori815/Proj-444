{
 "cells": [
  {
   "cell_type": "markdown",
   "metadata": {},
   "source": [
    "# Video network recommendation"
   ]
  },
  {
   "cell_type": "code",
   "execution_count": 1,
   "metadata": {},
   "outputs": [],
   "source": [
    "import networkx as nx\n",
    "import numpy as np\n",
    "import json, random\n",
    "import matplotlib.pyplot as plt\n",
    "import pandas as pd\n",
    "from tqdm import tqdm"
   ]
  },
  {
   "cell_type": "markdown",
   "metadata": {},
   "source": [
    "## Data preparaition"
   ]
  },
  {
   "cell_type": "code",
   "execution_count": 2,
   "metadata": {},
   "outputs": [],
   "source": [
    "from read_user2vid import *"
   ]
  },
  {
   "cell_type": "code",
   "execution_count": 3,
   "metadata": {},
   "outputs": [
    {
     "name": "stderr",
     "output_type": "stream",
     "text": [
      " 22%|██▏       | 106/492 [00:00<00:00, 1053.05it/s]"
     ]
    },
    {
     "name": "stdout",
     "output_type": "stream",
     "text": [
      "BiGraph with (492,1344) nodes and 4559 edges\n",
      "===================\n",
      "generating negative entries\n"
     ]
    },
    {
     "name": "stderr",
     "output_type": "stream",
     "text": [
      "100%|██████████| 492/492 [00:00<00:00, 715.55it/s] \n"
     ]
    },
    {
     "name": "stdout",
     "output_type": "stream",
     "text": [
      "6612 negative entries\n",
      "generating positive entries\n",
      "227 positive entries\n",
      "===================\n",
      "Dataset info:\n",
      "0    6612\n",
      "1     227\n",
      "Name: link, dtype: int64\n"
     ]
    }
   ],
   "source": [
    "graph, users, videos, = read_data(\"../dataset/user2video.json\")\n",
    "dataset, graph_train = genarate_dataset(graph, users, videos)"
   ]
  },
  {
   "cell_type": "code",
   "execution_count": 4,
   "metadata": {},
   "outputs": [
    {
     "data": {
      "text/html": [
       "<div>\n",
       "<style scoped>\n",
       "    .dataframe tbody tr th:only-of-type {\n",
       "        vertical-align: middle;\n",
       "    }\n",
       "\n",
       "    .dataframe tbody tr th {\n",
       "        vertical-align: top;\n",
       "    }\n",
       "\n",
       "    .dataframe thead th {\n",
       "        text-align: right;\n",
       "    }\n",
       "</style>\n",
       "<table border=\"1\" class=\"dataframe\">\n",
       "  <thead>\n",
       "    <tr style=\"text-align: right;\">\n",
       "      <th></th>\n",
       "      <th>users</th>\n",
       "      <th>videos</th>\n",
       "      <th>link</th>\n",
       "    </tr>\n",
       "  </thead>\n",
       "  <tbody>\n",
       "    <tr>\n",
       "      <th>0</th>\n",
       "      <td>218</td>\n",
       "      <td>2109</td>\n",
       "      <td>1</td>\n",
       "    </tr>\n",
       "    <tr>\n",
       "      <th>1</th>\n",
       "      <td>189</td>\n",
       "      <td>870</td>\n",
       "      <td>1</td>\n",
       "    </tr>\n",
       "    <tr>\n",
       "      <th>2</th>\n",
       "      <td>241</td>\n",
       "      <td>16</td>\n",
       "      <td>1</td>\n",
       "    </tr>\n",
       "    <tr>\n",
       "      <th>3</th>\n",
       "      <td>95</td>\n",
       "      <td>400</td>\n",
       "      <td>1</td>\n",
       "    </tr>\n",
       "    <tr>\n",
       "      <th>4</th>\n",
       "      <td>1295</td>\n",
       "      <td>458</td>\n",
       "      <td>1</td>\n",
       "    </tr>\n",
       "  </tbody>\n",
       "</table>\n",
       "</div>"
      ],
      "text/plain": [
       "  users videos  link\n",
       "0   218   2109     1\n",
       "1   189    870     1\n",
       "2   241     16     1\n",
       "3    95    400     1\n",
       "4  1295    458     1"
      ]
     },
     "execution_count": 4,
     "metadata": {},
     "output_type": "execute_result"
    }
   ],
   "source": [
    "dataset.head()"
   ]
  },
  {
   "cell_type": "code",
   "execution_count": 5,
   "metadata": {},
   "outputs": [
    {
     "data": {
      "application/vnd.jupyter.widget-view+json": {
       "model_id": "2c17fdbb24b24063b440ec9134541d9c",
       "version_major": 2,
       "version_minor": 0
      },
      "text/plain": [
       "HBox(children=(FloatProgress(value=0.0, description='Computing transition probabilities', max=1384.0, style=Pr…"
      ]
     },
     "metadata": {},
     "output_type": "display_data"
    },
    {
     "name": "stderr",
     "output_type": "stream",
     "text": [
      "\r",
      "Generating walks (CPU: 1):   0%|          | 0/25 [00:00<?, ?it/s]"
     ]
    },
    {
     "name": "stdout",
     "output_type": "stream",
     "text": [
      "\n"
     ]
    },
    {
     "name": "stderr",
     "output_type": "stream",
     "text": [
      "Generating walks (CPU: 1): 100%|██████████| 25/25 [00:27<00:00,  1.11s/it]\n"
     ]
    }
   ],
   "source": [
    "# dataset = process_parameters_naive(dataset, graph_train)\n",
    "dataset = process_parameters_node2vec(dataset, graph_train)"
   ]
  },
  {
   "cell_type": "code",
   "execution_count": 6,
   "metadata": {},
   "outputs": [
    {
     "data": {
      "text/html": [
       "<div>\n",
       "<style scoped>\n",
       "    .dataframe tbody tr th:only-of-type {\n",
       "        vertical-align: middle;\n",
       "    }\n",
       "\n",
       "    .dataframe tbody tr th {\n",
       "        vertical-align: top;\n",
       "    }\n",
       "\n",
       "    .dataframe thead th {\n",
       "        text-align: right;\n",
       "    }\n",
       "</style>\n",
       "<table border=\"1\" class=\"dataframe\">\n",
       "  <thead>\n",
       "    <tr style=\"text-align: right;\">\n",
       "      <th></th>\n",
       "      <th>users</th>\n",
       "      <th>videos</th>\n",
       "      <th>link</th>\n",
       "      <th>dim_0</th>\n",
       "      <th>dim_1</th>\n",
       "      <th>dim_2</th>\n",
       "      <th>dim_3</th>\n",
       "      <th>dim_4</th>\n",
       "      <th>dim_5</th>\n",
       "      <th>dim_6</th>\n",
       "      <th>...</th>\n",
       "      <th>dim_15</th>\n",
       "      <th>dim_16</th>\n",
       "      <th>dim_17</th>\n",
       "      <th>dim_18</th>\n",
       "      <th>dim_19</th>\n",
       "      <th>dim_20</th>\n",
       "      <th>dim_21</th>\n",
       "      <th>dim_22</th>\n",
       "      <th>dim_23</th>\n",
       "      <th>dim_24</th>\n",
       "    </tr>\n",
       "  </thead>\n",
       "  <tbody>\n",
       "    <tr>\n",
       "      <th>0</th>\n",
       "      <td>218</td>\n",
       "      <td>2109</td>\n",
       "      <td>1</td>\n",
       "      <td>0.000000</td>\n",
       "      <td>0.000000</td>\n",
       "      <td>0.000000</td>\n",
       "      <td>0.000000</td>\n",
       "      <td>0.000000</td>\n",
       "      <td>0.000000</td>\n",
       "      <td>0.000000</td>\n",
       "      <td>...</td>\n",
       "      <td>0.000000</td>\n",
       "      <td>0.000000</td>\n",
       "      <td>0.000000</td>\n",
       "      <td>0.000000</td>\n",
       "      <td>0.000000</td>\n",
       "      <td>0.000000</td>\n",
       "      <td>0.000000</td>\n",
       "      <td>0.000000</td>\n",
       "      <td>0.000000</td>\n",
       "      <td>0.000000</td>\n",
       "    </tr>\n",
       "    <tr>\n",
       "      <th>1</th>\n",
       "      <td>189</td>\n",
       "      <td>870</td>\n",
       "      <td>1</td>\n",
       "      <td>1.490830</td>\n",
       "      <td>3.090773</td>\n",
       "      <td>1.761602</td>\n",
       "      <td>1.617907</td>\n",
       "      <td>3.593301</td>\n",
       "      <td>0.877112</td>\n",
       "      <td>-0.228250</td>\n",
       "      <td>...</td>\n",
       "      <td>-3.814042</td>\n",
       "      <td>-5.449229</td>\n",
       "      <td>2.354221</td>\n",
       "      <td>-1.251389</td>\n",
       "      <td>-3.179302</td>\n",
       "      <td>0.770900</td>\n",
       "      <td>0.534840</td>\n",
       "      <td>2.268995</td>\n",
       "      <td>-3.872360</td>\n",
       "      <td>0.469053</td>\n",
       "    </tr>\n",
       "    <tr>\n",
       "      <th>2</th>\n",
       "      <td>241</td>\n",
       "      <td>16</td>\n",
       "      <td>1</td>\n",
       "      <td>2.551647</td>\n",
       "      <td>1.481932</td>\n",
       "      <td>0.336205</td>\n",
       "      <td>3.334350</td>\n",
       "      <td>-2.309990</td>\n",
       "      <td>1.990333</td>\n",
       "      <td>-1.060435</td>\n",
       "      <td>...</td>\n",
       "      <td>1.295722</td>\n",
       "      <td>-2.160716</td>\n",
       "      <td>1.618371</td>\n",
       "      <td>-1.978212</td>\n",
       "      <td>1.337865</td>\n",
       "      <td>2.554049</td>\n",
       "      <td>0.151447</td>\n",
       "      <td>0.395403</td>\n",
       "      <td>-0.535100</td>\n",
       "      <td>0.204718</td>\n",
       "    </tr>\n",
       "    <tr>\n",
       "      <th>3</th>\n",
       "      <td>95</td>\n",
       "      <td>400</td>\n",
       "      <td>1</td>\n",
       "      <td>2.260036</td>\n",
       "      <td>1.051847</td>\n",
       "      <td>-0.548619</td>\n",
       "      <td>-2.964388</td>\n",
       "      <td>1.266555</td>\n",
       "      <td>-1.367335</td>\n",
       "      <td>-0.415619</td>\n",
       "      <td>...</td>\n",
       "      <td>-0.829449</td>\n",
       "      <td>1.172786</td>\n",
       "      <td>0.316960</td>\n",
       "      <td>-0.292315</td>\n",
       "      <td>-1.318464</td>\n",
       "      <td>3.856657</td>\n",
       "      <td>2.163518</td>\n",
       "      <td>0.796537</td>\n",
       "      <td>-1.057291</td>\n",
       "      <td>3.056418</td>\n",
       "    </tr>\n",
       "    <tr>\n",
       "      <th>4</th>\n",
       "      <td>1295</td>\n",
       "      <td>458</td>\n",
       "      <td>1</td>\n",
       "      <td>-2.894198</td>\n",
       "      <td>-2.595119</td>\n",
       "      <td>2.252299</td>\n",
       "      <td>2.504868</td>\n",
       "      <td>-2.194469</td>\n",
       "      <td>2.496771</td>\n",
       "      <td>0.426829</td>\n",
       "      <td>...</td>\n",
       "      <td>-2.282462</td>\n",
       "      <td>1.236756</td>\n",
       "      <td>4.095197</td>\n",
       "      <td>0.526013</td>\n",
       "      <td>-7.582155</td>\n",
       "      <td>-0.843615</td>\n",
       "      <td>1.212296</td>\n",
       "      <td>-0.410348</td>\n",
       "      <td>-0.129791</td>\n",
       "      <td>-0.684353</td>\n",
       "    </tr>\n",
       "  </tbody>\n",
       "</table>\n",
       "<p>5 rows × 28 columns</p>\n",
       "</div>"
      ],
      "text/plain": [
       "  users videos  link     dim_0     dim_1     dim_2     dim_3     dim_4  \\\n",
       "0   218   2109     1  0.000000  0.000000  0.000000  0.000000  0.000000   \n",
       "1   189    870     1  1.490830  3.090773  1.761602  1.617907  3.593301   \n",
       "2   241     16     1  2.551647  1.481932  0.336205  3.334350 -2.309990   \n",
       "3    95    400     1  2.260036  1.051847 -0.548619 -2.964388  1.266555   \n",
       "4  1295    458     1 -2.894198 -2.595119  2.252299  2.504868 -2.194469   \n",
       "\n",
       "      dim_5     dim_6  ...    dim_15    dim_16    dim_17    dim_18    dim_19  \\\n",
       "0  0.000000  0.000000  ...  0.000000  0.000000  0.000000  0.000000  0.000000   \n",
       "1  0.877112 -0.228250  ... -3.814042 -5.449229  2.354221 -1.251389 -3.179302   \n",
       "2  1.990333 -1.060435  ...  1.295722 -2.160716  1.618371 -1.978212  1.337865   \n",
       "3 -1.367335 -0.415619  ... -0.829449  1.172786  0.316960 -0.292315 -1.318464   \n",
       "4  2.496771  0.426829  ... -2.282462  1.236756  4.095197  0.526013 -7.582155   \n",
       "\n",
       "     dim_20    dim_21    dim_22    dim_23    dim_24  \n",
       "0  0.000000  0.000000  0.000000  0.000000  0.000000  \n",
       "1  0.770900  0.534840  2.268995 -3.872360  0.469053  \n",
       "2  2.554049  0.151447  0.395403 -0.535100  0.204718  \n",
       "3  3.856657  2.163518  0.796537 -1.057291  3.056418  \n",
       "4 -0.843615  1.212296 -0.410348 -0.129791 -0.684353  \n",
       "\n",
       "[5 rows x 28 columns]"
      ]
     },
     "execution_count": 6,
     "metadata": {},
     "output_type": "execute_result"
    }
   ],
   "source": [
    "dataset.head()"
   ]
  },
  {
   "cell_type": "markdown",
   "metadata": {},
   "source": [
    "## Train model"
   ]
  },
  {
   "cell_type": "code",
   "execution_count": 7,
   "metadata": {},
   "outputs": [],
   "source": [
    "from sklearn.model_selection import train_test_split\n",
    "# simple models\n",
    "from sklearn.linear_model import LogisticRegression # 5zhong moxing\n",
    "from sklearn.svm import SVC\n",
    "from sklearn.tree import DecisionTreeClassifier\n",
    "from sklearn.ensemble import RandomForestClassifier\n",
    "from sklearn.neighbors import KNeighborsClassifier\n",
    "\n",
    "from sklearn.metrics import accuracy_score, roc_auc_score, confusion_matrix"
   ]
  },
  {
   "cell_type": "code",
   "execution_count": 8,
   "metadata": {},
   "outputs": [],
   "source": [
    "predictors = np.array(dataset.iloc[:, 3:])\n",
    "response = dataset['link']\n",
    "xtrain, xtest, ytrain, ytest = train_test_split(predictors, response,\n",
    "                                                test_size = 0.3, \n",
    "                                                random_state = 114514)"
   ]
  },
  {
   "cell_type": "code",
   "execution_count": 9,
   "metadata": {},
   "outputs": [],
   "source": [
    "judge = lambda x, y: 0 if x > y else 1"
   ]
  },
  {
   "cell_type": "markdown",
   "metadata": {},
   "source": [
    "### logistic classification"
   ]
  },
  {
   "cell_type": "code",
   "execution_count": 10,
   "metadata": {},
   "outputs": [
    {
     "name": "stdout",
     "output_type": "stream",
     "text": [
      "0.9224818877931902\n",
      "0.9941520467836257\n",
      "[[1980    1]\n",
      " [  11   60]]\n"
     ]
    }
   ],
   "source": [
    "# logistic regression\n",
    "lr = LogisticRegression(class_weight=\"balanced\") # lr = \n",
    "lr.fit(xtrain, ytrain)\n",
    "predictions = lr.predict_proba(xtest) # yong xtest suan chu lai de y\n",
    "print(roc_auc_score(ytest, predictions[:,1]))\n",
    "ypred = [judge(predictions[i,0], predictions[i,1]) for i in range(predictions.shape[0])]\n",
    "print(accuracy_score(ytest, ypred))\n",
    "print(confusion_matrix(ytest, ypred))"
   ]
  },
  {
   "cell_type": "markdown",
   "metadata": {},
   "source": [
    "### SVC"
   ]
  },
  {
   "cell_type": "code",
   "execution_count": 11,
   "metadata": {},
   "outputs": [
    {
     "name": "stdout",
     "output_type": "stream",
     "text": [
      "0.922282813488706\n",
      "0.9941520467836257\n",
      "[[1980    1]\n",
      " [  11   60]]\n"
     ]
    }
   ],
   "source": [
    "#input shi xtrain he ytrain\n",
    "clf = SVC(gamma='auto')\n",
    "clf.fit(xtrain, ytrain)\n",
    "predictions = clf.predict(xtest)\n",
    "#print(predictions)\n",
    "print(roc_auc_score(ytest, predictions))\n",
    "print(accuracy_score(ytest, predictions))\n",
    "print(confusion_matrix(ytest, predictions))"
   ]
  },
  {
   "cell_type": "markdown",
   "metadata": {},
   "source": [
    "### DecisionTree"
   ]
  },
  {
   "cell_type": "code",
   "execution_count": 12,
   "metadata": {},
   "outputs": [
    {
     "name": "stdout",
     "output_type": "stream",
     "text": [
      "0.9152405599675794\n",
      "0.9936647173489279\n",
      "[[1980    1]\n",
      " [  12   59]]\n"
     ]
    }
   ],
   "source": [
    "tre = DecisionTreeClassifier(criterion='gini')\n",
    "tre.fit(xtrain, ytrain)\n",
    "predictions = tre.predict(xtest)\n",
    "#print(predictions)\n",
    "print(roc_auc_score(ytest, predictions))\n",
    "print(accuracy_score(ytest, predictions))\n",
    "print(confusion_matrix(ytest, predictions))"
   ]
  },
  {
   "cell_type": "markdown",
   "metadata": {},
   "source": [
    "### RandomForest"
   ]
  },
  {
   "cell_type": "code",
   "execution_count": 18,
   "metadata": {},
   "outputs": [
    {
     "name": "stdout",
     "output_type": "stream",
     "text": [
      "0.922282813488706\n",
      "0.9941520467836257\n",
      "[[1980    1]\n",
      " [  11   60]]\n"
     ]
    }
   ],
   "source": [
    "ranf = RandomForestClassifier(max_depth=10, random_state=0)\n",
    "ranf.fit(xtrain, ytrain)\n",
    "predictions = ranf.predict(xtest)\n",
    "#print(predictions)\n",
    "print(roc_auc_score(ytest, predictions))\n",
    "print(accuracy_score(ytest, predictions))\n",
    "print(confusion_matrix(ytest, predictions))"
   ]
  },
  {
   "cell_type": "markdown",
   "metadata": {},
   "source": [
    "### KNeighbors"
   ]
  },
  {
   "cell_type": "code",
   "execution_count": 14,
   "metadata": {},
   "outputs": [
    {
     "name": "stdout",
     "output_type": "stream",
     "text": [
      "0.9084507042253521\n",
      "0.9936647173489279\n",
      "[[1981    0]\n",
      " [  13   58]]\n"
     ]
    }
   ],
   "source": [
    "kn = KNeighborsClassifier(3)\n",
    "kn.fit(xtrain, ytrain)\n",
    "predictions = kn.predict(xtest)\n",
    "#print(predictions)\n",
    "print(roc_auc_score(ytest, predictions))\n",
    "print(accuracy_score(ytest, predictions))\n",
    "print(confusion_matrix(ytest, predictions))"
   ]
  },
  {
   "cell_type": "code",
   "execution_count": null,
   "metadata": {},
   "outputs": [],
   "source": []
  }
 ],
 "metadata": {
  "kernelspec": {
   "display_name": "Python 3",
   "language": "python",
   "name": "python3"
  },
  "language_info": {
   "codemirror_mode": {
    "name": "ipython",
    "version": 3
   },
   "file_extension": ".py",
   "mimetype": "text/x-python",
   "name": "python",
   "nbconvert_exporter": "python",
   "pygments_lexer": "ipython3",
   "version": "3.8.3"
  }
 },
 "nbformat": 4,
 "nbformat_minor": 2
}
