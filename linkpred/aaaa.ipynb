{
 "metadata": {
  "language_info": {
   "codemirror_mode": {
    "name": "ipython",
    "version": 3
   },
   "file_extension": ".py",
   "mimetype": "text/x-python",
   "name": "python",
   "nbconvert_exporter": "python",
   "pygments_lexer": "ipython3",
   "version": "3.8.3-final"
  },
  "orig_nbformat": 2,
  "kernelspec": {
   "name": "python3",
   "display_name": "Python 3.8.3 64-bit (conda)",
   "metadata": {
    "interpreter": {
     "hash": "59fd3c4f107c11f517f0bd1e50bcd46f16a52b6bc8ae5bce3fc081b55f3b4eea"
    }
   }
  }
 },
 "nbformat": 4,
 "nbformat_minor": 2,
 "cells": [
  {
   "source": [
    "# Video network recommendation"
   ],
   "cell_type": "markdown",
   "metadata": {}
  },
  {
   "source": [
    "import networkx as nx\n",
    "import numpy as np\n",
    "import json, random\n",
    "import matplotlib.pyplot as plt\n",
    "import pandas as pd\n",
    "from tqdm import tqdm"
   ],
   "cell_type": "code",
   "metadata": {},
   "execution_count": 38,
   "outputs": []
  },
  {
   "source": [
    "## Data preparaition"
   ],
   "cell_type": "markdown",
   "metadata": {}
  },
  {
   "source": [
    "from read_vid2vid import *"
   ],
   "cell_type": "code",
   "metadata": {},
   "execution_count": 39,
   "outputs": []
  },
  {
   "cell_type": "code",
   "execution_count": 40,
   "metadata": {},
   "outputs": [
    {
     "output_type": "stream",
     "name": "stderr",
     "text": [
      "\n",
      "  0%|          | 0/843 [00:00<?, ?it/s]\u001b[A\n",
      "100%|██████████| 843/843 [00:00<00:00, 7101.11it/s]Graph with 843 nodes and 1057 edges\n",
      "===================\n",
      "generating negative entries\n",
      "\n",
      "\n",
      "  0%|          | 0/1057 [00:00<?, ?it/s]\u001b[A\n",
      "  3%|▎         | 31/1057 [00:00<00:03, 307.75it/s]\u001b[A3538 negative entries\n",
      "generating positive entries\n",
      "\n",
      "  6%|▌         | 63/1057 [00:00<00:03, 309.74it/s]\u001b[A\n",
      "  9%|▉         | 95/1057 [00:00<00:03, 311.17it/s]\u001b[A\n",
      " 12%|█▏        | 129/1057 [00:00<00:02, 317.75it/s]\u001b[A\n",
      " 15%|█▌        | 163/1057 [00:00<00:02, 322.54it/s]\u001b[A\n",
      " 19%|█▊        | 197/1057 [00:00<00:02, 325.00it/s]\u001b[A\n",
      " 21%|██▏       | 226/1057 [00:00<00:02, 309.93it/s]\u001b[A\n",
      " 24%|██▍       | 256/1057 [00:00<00:02, 304.55it/s]\u001b[A\n",
      " 27%|██▋       | 285/1057 [00:01<00:03, 229.24it/s]\u001b[A\n",
      " 30%|██▉       | 315/1057 [00:01<00:03, 246.27it/s]\u001b[A\n",
      " 32%|███▏      | 342/1057 [00:01<00:02, 249.63it/s]\u001b[A\n",
      " 35%|███▌      | 372/1057 [00:01<00:02, 262.37it/s]\u001b[A\n",
      " 38%|███▊      | 402/1057 [00:01<00:02, 272.00it/s]\u001b[A\n",
      " 41%|████      | 435/1057 [00:01<00:02, 285.09it/s]\u001b[A\n",
      " 44%|████▍     | 465/1057 [00:01<00:02, 285.51it/s]\u001b[A\n",
      " 47%|████▋     | 498/1057 [00:01<00:01, 296.95it/s]\u001b[A\n",
      " 50%|█████     | 532/1057 [00:01<00:01, 308.08it/s]\u001b[A\n",
      " 53%|█████▎    | 565/1057 [00:01<00:01, 312.79it/s]\u001b[A\n",
      " 57%|█████▋    | 598/1057 [00:02<00:01, 316.18it/s]\u001b[A\n",
      " 60%|█████▉    | 630/1057 [00:02<00:01, 239.40it/s]\u001b[A\n",
      " 63%|██████▎   | 663/1057 [00:02<00:01, 260.42it/s]\u001b[A\n",
      " 66%|██████▌   | 697/1057 [00:02<00:01, 278.23it/s]\u001b[A\n",
      " 69%|██████▉   | 730/1057 [00:02<00:01, 289.87it/s]\u001b[A\n",
      " 72%|███████▏  | 761/1057 [00:02<00:01, 286.06it/s]\u001b[A\n",
      " 75%|███████▍  | 791/1057 [00:02<00:00, 282.95it/s]\u001b[A\n",
      " 78%|███████▊  | 821/1057 [00:02<00:00, 280.01it/s]\u001b[A\n",
      " 81%|████████  | 854/1057 [00:02<00:00, 292.00it/s]\u001b[A\n",
      " 84%|████████▍ | 887/1057 [00:03<00:00, 300.57it/s]\u001b[A\n",
      " 87%|████████▋ | 918/1057 [00:03<00:00, 295.78it/s]\u001b[A\n",
      " 90%|████████▉ | 951/1057 [00:03<00:00, 303.82it/s]\u001b[A\n",
      " 93%|█████████▎| 984/1057 [00:03<00:00, 310.56it/s]\u001b[A\n",
      " 96%|█████████▌| 1016/1057 [00:03<00:00, 234.01it/s]\u001b[A\n",
      "100%|██████████| 1057/1057 [00:03<00:00, 281.24it/s]426 positive entries\n",
      "===================\n",
      "Dataset info:\n",
      "0    3538\n",
      "1     426\n",
      "Name: link, dtype: int64\n",
      "===================\n",
      "\n"
     ]
    }
   ],
   "source": [
    "graph, bvid2index = read_data(\"../dataset/video2video_bfs.json\")\n",
    "dataset, graph_train = genarate_dataset(graph)"
   ]
  },
  {
   "cell_type": "code",
   "execution_count": 41,
   "metadata": {},
   "outputs": [
    {
     "output_type": "execute_result",
     "data": {
      "text/plain": [
       "   node_1  node_2  link\n",
       "0       0       1     1\n",
       "1       0       2     1\n",
       "2       0       3     1\n",
       "3       0       4     1\n",
       "4       0       5     1"
      ],
      "text/html": "<div>\n<style scoped>\n    .dataframe tbody tr th:only-of-type {\n        vertical-align: middle;\n    }\n\n    .dataframe tbody tr th {\n        vertical-align: top;\n    }\n\n    .dataframe thead th {\n        text-align: right;\n    }\n</style>\n<table border=\"1\" class=\"dataframe\">\n  <thead>\n    <tr style=\"text-align: right;\">\n      <th></th>\n      <th>node_1</th>\n      <th>node_2</th>\n      <th>link</th>\n    </tr>\n  </thead>\n  <tbody>\n    <tr>\n      <th>0</th>\n      <td>0</td>\n      <td>1</td>\n      <td>1</td>\n    </tr>\n    <tr>\n      <th>1</th>\n      <td>0</td>\n      <td>2</td>\n      <td>1</td>\n    </tr>\n    <tr>\n      <th>2</th>\n      <td>0</td>\n      <td>3</td>\n      <td>1</td>\n    </tr>\n    <tr>\n      <th>3</th>\n      <td>0</td>\n      <td>4</td>\n      <td>1</td>\n    </tr>\n    <tr>\n      <th>4</th>\n      <td>0</td>\n      <td>5</td>\n      <td>1</td>\n    </tr>\n  </tbody>\n</table>\n</div>"
     },
     "metadata": {},
     "execution_count": 41
    }
   ],
   "source": [
    "dataset.head()"
   ]
  },
  {
   "cell_type": "code",
   "execution_count": 42,
   "metadata": {},
   "outputs": [
    {
     "output_type": "stream",
     "name": "stderr",
     "text": [
      "\n",
      "Computing transition probabilities: 100%|██████████| 843/843 [00:00<00:00, 11270.09it/s]\n",
      "\n",
      "Generating walks (CPU: 1):   0%|          | 0/25 [00:00<?, ?it/s]\u001b[A\n",
      "Generating walks (CPU: 1):   8%|▊         | 2/25 [00:00<00:05,  4.58it/s]\u001b[A\n",
      "Generating walks (CPU: 1):  12%|█▏        | 3/25 [00:00<00:06,  3.54it/s]\u001b[A\n",
      "Generating walks (CPU: 1):  16%|█▌        | 4/25 [00:01<00:06,  3.06it/s]\u001b[A\n",
      "Generating walks (CPU: 1):  20%|██        | 5/25 [00:01<00:07,  2.80it/s]\u001b[A\n",
      "Generating walks (CPU: 1):  24%|██▍       | 6/25 [00:02<00:07,  2.64it/s]\u001b[A\n",
      "Generating walks (CPU: 1):  28%|██▊       | 7/25 [00:02<00:07,  2.53it/s]\u001b[A\n",
      "Generating walks (CPU: 1):  32%|███▏      | 8/25 [00:03<00:06,  2.47it/s]\u001b[A\n",
      "Generating walks (CPU: 1):  36%|███▌      | 9/25 [00:03<00:06,  2.42it/s]\u001b[A\n",
      "Generating walks (CPU: 1):  40%|████      | 10/25 [00:03<00:06,  2.39it/s]\u001b[A\n",
      "Generating walks (CPU: 1):  44%|████▍     | 11/25 [00:04<00:05,  2.34it/s]\u001b[A\n",
      "Generating walks (CPU: 1):  48%|████▊     | 12/25 [00:04<00:05,  2.33it/s]\u001b[A\n",
      "Generating walks (CPU: 1):  52%|█████▏    | 13/25 [00:05<00:05,  2.33it/s]\u001b[A\n",
      "Generating walks (CPU: 1):  56%|█████▌    | 14/25 [00:05<00:04,  2.31it/s]\u001b[A\n",
      "Generating walks (CPU: 1):  60%|██████    | 15/25 [00:06<00:04,  2.32it/s]\u001b[A\n",
      "Generating walks (CPU: 1):  64%|██████▍   | 16/25 [00:06<00:03,  2.33it/s]\u001b[A\n",
      "Generating walks (CPU: 1):  68%|██████▊   | 17/25 [00:06<00:03,  2.33it/s]\u001b[A\n",
      "Generating walks (CPU: 1):  72%|███████▏  | 18/25 [00:07<00:03,  2.33it/s]\u001b[A\n",
      "Generating walks (CPU: 1):  76%|███████▌  | 19/25 [00:07<00:02,  2.33it/s]\u001b[A\n",
      "Generating walks (CPU: 1):  80%|████████  | 20/25 [00:08<00:02,  2.31it/s]\u001b[A\n",
      "Generating walks (CPU: 1):  84%|████████▍ | 21/25 [00:08<00:01,  2.31it/s]\u001b[A\n",
      "Generating walks (CPU: 1):  88%|████████▊ | 22/25 [00:09<00:01,  2.30it/s]\u001b[A\n",
      "Generating walks (CPU: 1):  92%|█████████▏| 23/25 [00:09<00:00,  2.31it/s]\u001b[A\n",
      "Generating walks (CPU: 1):  96%|█████████▌| 24/25 [00:09<00:00,  2.32it/s]\u001b[A\n",
      "Generating walks (CPU: 1): 100%|██████████| 25/25 [00:10<00:00,  2.32it/s]\n"
     ]
    }
   ],
   "source": [
    "# dataset = process_parameters_naive(dataset, graph_train)\n",
    "dataset = process_parameters_node2vec(dataset, graph_train)"
   ]
  },
  {
   "cell_type": "code",
   "execution_count": 43,
   "metadata": {},
   "outputs": [
    {
     "output_type": "execute_result",
     "data": {
      "text/plain": [
       "   node_1  node_2  link     dim_0     dim_1     dim_2     dim_3     dim_4  \\\n",
       "0       0       1     1  3.677244 -7.408587 -1.149522  4.766930  2.232504   \n",
       "1       0       2     1  3.913168 -6.052948 -2.484160  7.417711  1.989914   \n",
       "2       0       3     1  7.552043 -8.007521 -1.464558  5.554373  1.379922   \n",
       "3       0       4     1  3.489395 -5.346329 -3.440903  4.715023  0.297392   \n",
       "4       0       5     1  3.682384 -6.835263 -4.939224  3.149331  0.627273   \n",
       "\n",
       "      dim_5     dim_6  ...    dim_15    dim_16    dim_17    dim_18    dim_19  \\\n",
       "0 -2.800908  0.520753  ... -1.768633 -1.950660  1.571567  7.284320  8.317077   \n",
       "1 -0.896275 -2.294354  ... -2.958920 -3.615060  3.166021  6.184459  7.896777   \n",
       "2  1.401353  1.301248  ... -0.260520 -4.308901  1.884464  8.559779  4.687583   \n",
       "3  1.677482 -2.671068  ... -4.806254 -3.278936 -0.571291  8.300882  7.263016   \n",
       "4  3.658145 -1.089675  ... -1.456812 -3.889001  0.963955  7.514911  5.606872   \n",
       "\n",
       "     dim_20    dim_21    dim_22    dim_23    dim_24  \n",
       "0 -6.887998 -1.237405 -1.572495  0.123860  1.296767  \n",
       "1 -5.650343 -1.060356 -2.884728  1.600661  2.806098  \n",
       "2 -2.751374 -2.081569 -2.889452 -0.879296  1.081219  \n",
       "3 -7.203069 -1.967599 -2.745599 -0.282734 -2.361041  \n",
       "4 -7.628733 -2.695410 -2.488801  1.290942  0.902572  \n",
       "\n",
       "[5 rows x 28 columns]"
      ],
      "text/html": "<div>\n<style scoped>\n    .dataframe tbody tr th:only-of-type {\n        vertical-align: middle;\n    }\n\n    .dataframe tbody tr th {\n        vertical-align: top;\n    }\n\n    .dataframe thead th {\n        text-align: right;\n    }\n</style>\n<table border=\"1\" class=\"dataframe\">\n  <thead>\n    <tr style=\"text-align: right;\">\n      <th></th>\n      <th>node_1</th>\n      <th>node_2</th>\n      <th>link</th>\n      <th>dim_0</th>\n      <th>dim_1</th>\n      <th>dim_2</th>\n      <th>dim_3</th>\n      <th>dim_4</th>\n      <th>dim_5</th>\n      <th>dim_6</th>\n      <th>...</th>\n      <th>dim_15</th>\n      <th>dim_16</th>\n      <th>dim_17</th>\n      <th>dim_18</th>\n      <th>dim_19</th>\n      <th>dim_20</th>\n      <th>dim_21</th>\n      <th>dim_22</th>\n      <th>dim_23</th>\n      <th>dim_24</th>\n    </tr>\n  </thead>\n  <tbody>\n    <tr>\n      <th>0</th>\n      <td>0</td>\n      <td>1</td>\n      <td>1</td>\n      <td>3.677244</td>\n      <td>-7.408587</td>\n      <td>-1.149522</td>\n      <td>4.766930</td>\n      <td>2.232504</td>\n      <td>-2.800908</td>\n      <td>0.520753</td>\n      <td>...</td>\n      <td>-1.768633</td>\n      <td>-1.950660</td>\n      <td>1.571567</td>\n      <td>7.284320</td>\n      <td>8.317077</td>\n      <td>-6.887998</td>\n      <td>-1.237405</td>\n      <td>-1.572495</td>\n      <td>0.123860</td>\n      <td>1.296767</td>\n    </tr>\n    <tr>\n      <th>1</th>\n      <td>0</td>\n      <td>2</td>\n      <td>1</td>\n      <td>3.913168</td>\n      <td>-6.052948</td>\n      <td>-2.484160</td>\n      <td>7.417711</td>\n      <td>1.989914</td>\n      <td>-0.896275</td>\n      <td>-2.294354</td>\n      <td>...</td>\n      <td>-2.958920</td>\n      <td>-3.615060</td>\n      <td>3.166021</td>\n      <td>6.184459</td>\n      <td>7.896777</td>\n      <td>-5.650343</td>\n      <td>-1.060356</td>\n      <td>-2.884728</td>\n      <td>1.600661</td>\n      <td>2.806098</td>\n    </tr>\n    <tr>\n      <th>2</th>\n      <td>0</td>\n      <td>3</td>\n      <td>1</td>\n      <td>7.552043</td>\n      <td>-8.007521</td>\n      <td>-1.464558</td>\n      <td>5.554373</td>\n      <td>1.379922</td>\n      <td>1.401353</td>\n      <td>1.301248</td>\n      <td>...</td>\n      <td>-0.260520</td>\n      <td>-4.308901</td>\n      <td>1.884464</td>\n      <td>8.559779</td>\n      <td>4.687583</td>\n      <td>-2.751374</td>\n      <td>-2.081569</td>\n      <td>-2.889452</td>\n      <td>-0.879296</td>\n      <td>1.081219</td>\n    </tr>\n    <tr>\n      <th>3</th>\n      <td>0</td>\n      <td>4</td>\n      <td>1</td>\n      <td>3.489395</td>\n      <td>-5.346329</td>\n      <td>-3.440903</td>\n      <td>4.715023</td>\n      <td>0.297392</td>\n      <td>1.677482</td>\n      <td>-2.671068</td>\n      <td>...</td>\n      <td>-4.806254</td>\n      <td>-3.278936</td>\n      <td>-0.571291</td>\n      <td>8.300882</td>\n      <td>7.263016</td>\n      <td>-7.203069</td>\n      <td>-1.967599</td>\n      <td>-2.745599</td>\n      <td>-0.282734</td>\n      <td>-2.361041</td>\n    </tr>\n    <tr>\n      <th>4</th>\n      <td>0</td>\n      <td>5</td>\n      <td>1</td>\n      <td>3.682384</td>\n      <td>-6.835263</td>\n      <td>-4.939224</td>\n      <td>3.149331</td>\n      <td>0.627273</td>\n      <td>3.658145</td>\n      <td>-1.089675</td>\n      <td>...</td>\n      <td>-1.456812</td>\n      <td>-3.889001</td>\n      <td>0.963955</td>\n      <td>7.514911</td>\n      <td>5.606872</td>\n      <td>-7.628733</td>\n      <td>-2.695410</td>\n      <td>-2.488801</td>\n      <td>1.290942</td>\n      <td>0.902572</td>\n    </tr>\n  </tbody>\n</table>\n<p>5 rows × 28 columns</p>\n</div>"
     },
     "metadata": {},
     "execution_count": 43
    }
   ],
   "source": [
    "dataset.head()"
   ]
  },
  {
   "source": [
    "## Train model"
   ],
   "cell_type": "markdown",
   "metadata": {}
  },
  {
   "cell_type": "code",
   "execution_count": 44,
   "metadata": {},
   "outputs": [],
   "source": [
    "from sklearn.model_selection import train_test_split\n",
    "# simple models\n",
    "from sklearn.linear_model import LogisticRegression\n",
    "from sklearn.svm import SVC\n",
    "from sklearn.tree import DecisionTreeClassifier\n",
    "from sklearn.ensemble import RandomForestClassifier\n",
    "from sklearn.neighbors import KNeighborsClassifier\n",
    "\n",
    "from sklearn.metrics import accuracy_score, roc_auc_score, confusion_matrix"
   ]
  },
  {
   "cell_type": "code",
   "execution_count": 45,
   "metadata": {},
   "outputs": [],
   "source": [
    "predictors = np.array(dataset.iloc[:, 3:])\n",
    "response = dataset['link']\n",
    "xtrain, xtest, ytrain, ytest = train_test_split(predictors, response,\n",
    "                                                test_size = 0.3, \n",
    "                                                random_state = 114514)"
   ]
  },
  {
   "cell_type": "code",
   "execution_count": 46,
   "metadata": {},
   "outputs": [],
   "source": [
    "judge = lambda x, y: 0 if x > y else 1"
   ]
  },
  {
   "source": [
    "### logistic classification"
   ],
   "cell_type": "markdown",
   "metadata": {}
  },
  {
   "cell_type": "code",
   "execution_count": 47,
   "metadata": {},
   "outputs": [
    {
     "output_type": "execute_result",
     "data": {
      "text/plain": [
       "0.88063440779251"
      ]
     },
     "metadata": {},
     "execution_count": 47
    }
   ],
   "source": [
    "# logistic regression\n",
    "lr = LogisticRegression(class_weight=\"balanced\")\n",
    "lr.fit(xtrain, ytrain)\n",
    "predictions = lr.predict_proba(xtest)\n",
    "roc_auc_score(ytest, predictions[:,1])"
   ]
  },
  {
   "cell_type": "code",
   "execution_count": 48,
   "metadata": {},
   "outputs": [
    {
     "output_type": "stream",
     "name": "stdout",
     "text": [
      "0.8\n"
     ]
    },
    {
     "output_type": "execute_result",
     "data": {
      "text/plain": [
       "array([[827, 224],\n",
       "       [ 14, 125]], dtype=int64)"
      ]
     },
     "metadata": {},
     "execution_count": 48
    }
   ],
   "source": [
    "ypred = [judge(predictions[i,0], predictions[i,1]) for i in range(predictions.shape[0])]\n",
    "print(accuracy_score(ytest, ypred))\n",
    "confusion_matrix(ytest, ypred)"
   ]
  },
  {
   "cell_type": "code",
   "execution_count": null,
   "metadata": {},
   "outputs": [],
   "source": []
  }
 ]
}