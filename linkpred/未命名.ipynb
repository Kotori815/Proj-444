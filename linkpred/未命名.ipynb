{
 "cells": [
  {
   "cell_type": "code",
   "execution_count": 7,
   "metadata": {},
   "outputs": [],
   "source": [
    "import sklearn"
   ]
  },
  {
   "cell_type": "code",
   "execution_count": 9,
   "metadata": {},
   "outputs": [
    {
     "name": "stdout",
     "output_type": "stream",
     "text": [
      "Collecting node2vec\n",
      "  Downloading node2vec-0.4.0.tar.gz (4.4 kB)\n",
      "Requirement already satisfied: networkx in /Users/stevenwong/opt/anaconda3/lib/python3.8/site-packages (from node2vec) (2.4)\n",
      "Collecting gensim\n",
      "  Downloading gensim-3.8.3-cp38-cp38-macosx_10_9_x86_64.whl (24.2 MB)\n",
      "\u001b[K     |████████████████████████████████| 24.2 MB 106 kB/s eta 0:00:01\n",
      "\u001b[?25hRequirement already satisfied: numpy in /Users/stevenwong/opt/anaconda3/lib/python3.8/site-packages (from node2vec) (1.18.5)\n",
      "Requirement already satisfied: tqdm in /Users/stevenwong/opt/anaconda3/lib/python3.8/site-packages (from node2vec) (4.47.0)\n",
      "Requirement already satisfied: joblib>=0.13.2 in /Users/stevenwong/opt/anaconda3/lib/python3.8/site-packages (from node2vec) (0.16.0)\n",
      "Requirement already satisfied: decorator>=4.3.0 in /Users/stevenwong/opt/anaconda3/lib/python3.8/site-packages (from networkx->node2vec) (4.4.2)\n",
      "Requirement already satisfied: scipy>=0.18.1 in /Users/stevenwong/opt/anaconda3/lib/python3.8/site-packages (from gensim->node2vec) (1.5.0)\n",
      "Requirement already satisfied: six>=1.5.0 in /Users/stevenwong/opt/anaconda3/lib/python3.8/site-packages (from gensim->node2vec) (1.15.0)\n",
      "Collecting smart-open>=1.8.1\n",
      "  Downloading smart_open-4.0.1.tar.gz (117 kB)\n",
      "\u001b[K     |████████████████████████████████| 117 kB 128 kB/s eta 0:00:01\n",
      "\u001b[?25hBuilding wheels for collected packages: node2vec, smart-open\n",
      "  Building wheel for node2vec (setup.py) ... \u001b[?25ldone\n",
      "\u001b[?25h  Created wheel for node2vec: filename=node2vec-0.4.0-py3-none-any.whl size=5729 sha256=dc780c69e8df79525a97641c5141c74315c6b665697146a4fffe8e094df7818c\n",
      "  Stored in directory: /Users/stevenwong/Library/Caches/pip/wheels/ad/fa/45/4c6df2566589b3899239d3771bbe647f26a58d92b987ace2c3\n",
      "  Building wheel for smart-open (setup.py) ... \u001b[?25ldone\n",
      "\u001b[?25h  Created wheel for smart-open: filename=smart_open-4.0.1-py3-none-any.whl size=108249 sha256=aac64520fa3a0c2f8258bc6fc35c4833b6b784b172279f63e301a72b92ddccf0\n",
      "  Stored in directory: /Users/stevenwong/Library/Caches/pip/wheels/8c/f9/f4/4ddd9ddee3488f48be20e9bf3108961f03ae23da29b7ed26d1\n",
      "Successfully built node2vec smart-open\n",
      "Installing collected packages: smart-open, gensim, node2vec\n",
      "Successfully installed gensim-3.8.3 node2vec-0.4.0 smart-open-4.0.1\n"
     ]
    }
   ],
   "source": [
    "!pip install node2vec"
   ]
  },
  {
   "cell_type": "code",
   "execution_count": null,
   "metadata": {},
   "outputs": [],
   "source": []
  }
 ],
 "metadata": {
  "kernelspec": {
   "display_name": "Python 3",
   "language": "python",
   "name": "python3"
  },
  "language_info": {
   "codemirror_mode": {
    "name": "ipython",
    "version": 3
   },
   "file_extension": ".py",
   "mimetype": "text/x-python",
   "name": "python",
   "nbconvert_exporter": "python",
   "pygments_lexer": "ipython3",
   "version": "3.8.3"
  }
 },
 "nbformat": 4,
 "nbformat_minor": 4
}
