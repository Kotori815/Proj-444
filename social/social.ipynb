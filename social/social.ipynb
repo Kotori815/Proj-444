{
 "metadata": {
  "language_info": {
   "codemirror_mode": {
    "name": "ipython",
    "version": 3
   },
   "file_extension": ".py",
   "mimetype": "text/x-python",
   "name": "python",
   "nbconvert_exporter": "python",
   "pygments_lexer": "ipython3",
   "version": "3.8.3-final"
  },
  "orig_nbformat": 2,
  "kernelspec": {
   "name": "python3",
   "display_name": "Python 3"
  }
 },
 "nbformat": 4,
 "nbformat_minor": 2,
 "cells": [
  {
   "cell_type": "code",
   "execution_count": 1,
   "metadata": {},
   "outputs": [],
   "source": [
    "import json\n",
    "import random\n",
    "import numpy as np"
   ]
  },
  {
   "cell_type": "code",
   "execution_count": 2,
   "metadata": {},
   "outputs": [],
   "source": [
    "with open('user2video.json', 'r') as f:\n",
    "    uvdict = json.load(f)"
   ]
  },
  {
   "cell_type": "code",
   "execution_count": 55,
   "metadata": {},
   "outputs": [
    {
     "output_type": "execute_result",
     "data": {
      "text/plain": [
       "(492, 1344)"
      ]
     },
     "metadata": {},
     "execution_count": 55
    }
   ],
   "source": [
    "user2index = dict()\n",
    "for user in uvdict.keys():\n",
    "    user2index[user] = len(user2index)\n",
    "len_user = len(uvdict)\n",
    "vid = set()\n",
    "for vlist in uvdict.values():\n",
    "    vid.update(set(vlist))\n",
    "len_vid = len(vid)\n",
    "len_user, len_vid"
   ]
  },
  {
   "cell_type": "code",
   "execution_count": 4,
   "metadata": {},
   "outputs": [],
   "source": [
    "R_total = np.zeros([len_user, len_vid])\n",
    "\n",
    "video2index = dict()\n",
    "for u, v_list in uvdict.items():\n",
    "    for v in v_list:\n",
    "        if video2index.get(v) == None:\n",
    "            video2index[v] = len(video2index)\n",
    "        R_total[user2index[u], video2index[v]] = 1"
   ]
  },
  {
   "cell_type": "code",
   "execution_count": 5,
   "metadata": {},
   "outputs": [
    {
     "output_type": "execute_result",
     "data": {
      "text/plain": [
       "array([[1., 1., 1., ..., 0., 0., 0.],\n",
       "       [0., 0., 0., ..., 0., 0., 0.],\n",
       "       [0., 0., 0., ..., 0., 0., 0.],\n",
       "       ...,\n",
       "       [0., 0., 0., ..., 0., 0., 0.],\n",
       "       [0., 0., 0., ..., 0., 0., 0.],\n",
       "       [0., 0., 0., ..., 0., 0., 0.]])"
      ]
     },
     "metadata": {},
     "execution_count": 5
    }
   ],
   "source": [
    "R_total"
   ]
  },
  {
   "cell_type": "code",
   "execution_count": 39,
   "metadata": {},
   "outputs": [],
   "source": [
    "def update(R, U, V, lambda_coef, K, users, items):\n",
    "    for i in range(users): \n",
    "        V_j = V[:, R[i, :] > 0]\n",
    "        U[:, i] = np.dot(np.linalg.inv(np.dot(V_j, V_j.T) + lambda_coef * np.identity(K)), np.dot(R[i, R[i, :] > 0], V_j.T))\n",
    "    for j in range(items): \n",
    "        U_i = U[:, R[:, j] > 0] \n",
    "        V[:, j] = np.dot(np.linalg.inv(np.dot(U_i, U_i.T) + lambda_coef * np.identity(K)), np.dot(R[R[:, j] > 0, j], U_i.T))\n",
    "    return U,V\n",
    "\n",
    "def train(R, max_round):\n",
    "    rounds = 0\n",
    "    global U,V,K,users,items,lambda_coef\n",
    "    while rounds<=max_round:\n",
    "        rounds = rounds + 1    \n",
    "        U,V=update(R,U,V,lambda_coef,K,users,items)\n",
    "    return U, V"
   ]
  },
  {
   "cell_type": "code",
   "execution_count": 40,
   "metadata": {},
   "outputs": [],
   "source": [
    "R_train = R_total.copy()\n",
    "R_test = list()\n",
    "for i in range(R_total.shape[0]):\n",
    "    for j in range(R_total.shape[1]):\n",
    "        if R_train[i, j] == 1:\n",
    "            if random.random() < 0.1:\n",
    "                R_train[i, j] = 0\n",
    "                R_test.append((i,j))"
   ]
  },
  {
   "cell_type": "code",
   "execution_count": 51,
   "metadata": {},
   "outputs": [],
   "source": [
    "K = 5\n",
    "users, items = R_train.shape\n",
    "lambda_coef = 0.05\n",
    "U = np.ones([K, users]) / users\n",
    "V = np.ones([K, items]) / items\n",
    "U, V=train(R_train, 50)\n",
    "M = np.round(np.dot(U.T,V))"
   ]
  },
  {
   "cell_type": "code",
   "execution_count": 52,
   "metadata": {},
   "outputs": [
    {
     "output_type": "execute_result",
     "data": {
      "text/plain": [
       "0.06782326751838946"
      ]
     },
     "metadata": {},
     "execution_count": 52
    }
   ],
   "source": [
    "np.sum(np.abs(M-R_total)) / R_total.size"
   ]
  },
  {
   "cell_type": "code",
   "execution_count": 53,
   "metadata": {},
   "outputs": [
    {
     "output_type": "execute_result",
     "data": {
      "text/plain": [
       "0.18930957683741648"
      ]
     },
     "metadata": {},
     "execution_count": 53
    }
   ],
   "source": [
    "sm = 0\n",
    "for (i,j) in R_test:\n",
    "    sm += abs(M[i,j]-R_total[i,j])\n",
    "sm / len(R_test)"
   ]
  },
  {
   "cell_type": "code",
   "execution_count": null,
   "metadata": {},
   "outputs": [],
   "source": []
  }
 ]
}